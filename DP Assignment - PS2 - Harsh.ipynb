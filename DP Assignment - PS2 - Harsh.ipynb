{
 "cells": [
  {
   "cell_type": "markdown",
   "id": "c6eea17a",
   "metadata": {},
   "source": [
    "## Assignment 2:"
   ]
  },
  {
   "cell_type": "markdown",
   "id": "424add8c",
   "metadata": {},
   "source": [
    "## Que: 1"
   ]
  },
  {
   "cell_type": "code",
   "execution_count": null,
   "id": "f07d315d",
   "metadata": {},
   "outputs": [],
   "source": [
    "a = 0\n",
    "def b():\n",
    "    global a\n",
    "    a = c(a)\n",
    "    \n",
    "def c(a):\n",
    "    return a + 2\n",
    "\n",
    "b()  \n",
    "b() \n",
    "b() \n",
    "a   "
   ]
  },
  {
   "cell_type": "code",
   "execution_count": null,
   "id": "9fc910d6",
   "metadata": {},
   "outputs": [],
   "source": [
    "# Command Executed:\n",
    "\n",
    "# 1. Variable 'a' was entered in function b. Here, another function c take the input value from a.\n",
    "# 2. We used global command which means it takes new values each times...\n",
    "    # First call of the function b() --> function b will take current value of a which is 0 and add 2 in it. so, a = 2 (after executing it)\n",
    "    # Second call of the function b() --> function b will take current value of a which is 2 and add 2 in it. so, a = 4 (after executing it)\n",
    "    # Third call of the function b() --> function b will take current value of a which is 4 and add 2 in it. so, a = 6 (after executing it)\n",
    "#3. At this point a = 6 which will be printed out."
   ]
  },
  {
   "cell_type": "markdown",
   "id": "b2ed7b46",
   "metadata": {},
   "source": [
    "## Que: 2"
   ]
  },
  {
   "cell_type": "code",
   "execution_count": 67,
   "id": "fe73f49b",
   "metadata": {},
   "outputs": [],
   "source": [
    "import os                               \n",
    "def fileLen(f):                         \n",
    "    try:                               \n",
    "        fin = os.stat(f) \n",
    "        print(fin.st_size) \n",
    "    except IOError:                        \n",
    "        print(\"File \", str(f),\" not found\") "
   ]
  },
  {
   "cell_type": "code",
   "execution_count": 65,
   "id": "8d643296",
   "metadata": {},
   "outputs": [
    {
     "name": "stdout",
     "output_type": "stream",
     "text": [
      "File  idterm.py  not found\n"
     ]
    }
   ],
   "source": [
    "fileLen('idterm.py')"
   ]
  },
  {
   "cell_type": "markdown",
   "id": "8fa067b5",
   "metadata": {},
   "source": [
    "## Que: 3"
   ]
  },
  {
   "cell_type": "code",
   "execution_count": 60,
   "id": "a851a809",
   "metadata": {
    "scrolled": true
   },
   "outputs": [],
   "source": [
    "class Marsupial:\n",
    "    def __init__(self):\n",
    "        self.a1 = []\n",
    "    def put_in_pouch(self, input):\n",
    "        self.a1.append(input)\n",
    "    def pouch_contents(self):\n",
    "        print(self.a1)"
   ]
  },
  {
   "cell_type": "code",
   "execution_count": 61,
   "id": "290cc9a2",
   "metadata": {},
   "outputs": [
    {
     "name": "stdout",
     "output_type": "stream",
     "text": [
      "['doll', 'firetruck', 'kitten']\n"
     ]
    }
   ],
   "source": [
    "m = Marsupial()\n",
    "m.put_in_pouch('doll')\n",
    "m.put_in_pouch('firetruck')\n",
    "m.put_in_pouch('kitten')\n",
    "m.pouch_contents()"
   ]
  },
  {
   "cell_type": "code",
   "execution_count": 62,
   "id": "4fc82bba",
   "metadata": {},
   "outputs": [],
   "source": [
    "class Kangaroo(Marsupial):\n",
    "    def __init__(self, xcd,ycd):\n",
    "            self.x = xcd\n",
    "            self.y = ycd\n",
    "            self.a1 = []\n",
    "    def print(self):\n",
    "        print(\"I am a Kangaroo located at coordinates:\", \"(\",self.x,\",\",self.y,\")\")\n",
    "        \n",
    "    def jump(self, jx, jy):\n",
    "        self.x += jx\n",
    "        self.y += jy\n",
    "        return (self.x, self.y)"
   ]
  },
  {
   "cell_type": "code",
   "execution_count": 63,
   "id": "497a23ad",
   "metadata": {},
   "outputs": [
    {
     "name": "stdout",
     "output_type": "stream",
     "text": [
      "I am a Kangaroo located at coordinates: ( 0 , 0 )\n",
      "['doll', 'firetruck', 'kitten']\n"
     ]
    }
   ],
   "source": [
    "k = Kangaroo(0,0)\n",
    "k.print()\n",
    "k.put_in_pouch('doll')\n",
    "k.put_in_pouch('firetruck')\n",
    "k.put_in_pouch('kitten')\n",
    "k.pouch_contents()"
   ]
  },
  {
   "cell_type": "code",
   "execution_count": 64,
   "id": "c2ef2533",
   "metadata": {},
   "outputs": [
    {
     "name": "stdout",
     "output_type": "stream",
     "text": [
      "I am a Kangaroo located at coordinates: ( 3 , 0 )\n"
     ]
    }
   ],
   "source": [
    "k.jump(1,0)\n",
    "k.jump(1,0)\n",
    "k.jump(1,0)\n",
    "k.print()"
   ]
  },
  {
   "cell_type": "markdown",
   "id": "fb6b3881",
   "metadata": {},
   "source": [
    "## Que: 4"
   ]
  },
  {
   "cell_type": "code",
   "execution_count": 70,
   "id": "5359f32d",
   "metadata": {
    "scrolled": true
   },
   "outputs": [],
   "source": [
    "def Collatz(a):                               \n",
    "    while a!= 1:                               \n",
    "        print(a, end = ',')\n",
    "        if a & 1:                             \n",
    "            a = 3 * a + 1\n",
    "        else:    \n",
    "            a = a // 2                        \n",
    "    print(a)                                   "
   ]
  },
  {
   "cell_type": "code",
   "execution_count": 69,
   "id": "b5be0a56",
   "metadata": {},
   "outputs": [
    {
     "name": "stdout",
     "output_type": "stream",
     "text": [
      "1\n"
     ]
    }
   ],
   "source": [
    "Collatz(1)"
   ]
  },
  {
   "cell_type": "code",
   "execution_count": 68,
   "id": "6ce99517",
   "metadata": {},
   "outputs": [
    {
     "name": "stdout",
     "output_type": "stream",
     "text": [
      "10,5,16,8,4,2,1\n"
     ]
    }
   ],
   "source": [
    "Collatz(10)"
   ]
  },
  {
   "cell_type": "markdown",
   "id": "bc15d828",
   "metadata": {},
   "source": [
    "## Que: 5\n"
   ]
  },
  {
   "cell_type": "code",
   "execution_count": 39,
   "id": "681245d3",
   "metadata": {},
   "outputs": [
    {
     "name": "stdout",
     "output_type": "stream",
     "text": [
      "0\n",
      "1\n",
      "11\n",
      "1001\n"
     ]
    }
   ],
   "source": [
    "#Approach 1: \n",
    "def binary(a):\n",
    "    print('{:b}'.format(a))\n",
    "    \n",
    "binary(0)\n",
    "binary(1)\n",
    "binary(3)\n",
    "binary(9)   "
   ]
  },
  {
   "cell_type": "code",
   "execution_count": 41,
   "id": "92086067",
   "metadata": {},
   "outputs": [
    {
     "data": {
      "text/plain": [
       "'1001'"
      ]
     },
     "execution_count": 41,
     "metadata": {},
     "output_type": "execute_result"
    }
   ],
   "source": [
    "#Approach 2:\n",
    "\n",
    "def bin(b):                   \n",
    "    n = str(b % 2)           \n",
    "    if b >> 1 > 0:\n",
    "        n += bin(b >> 1)\n",
    "    return n\n",
    "bin(9)"
   ]
  },
  {
   "cell_type": "markdown",
   "id": "6ee6149e",
   "metadata": {},
   "source": [
    "## Que: 6"
   ]
  },
  {
   "cell_type": "code",
   "execution_count": 133,
   "id": "0c4d277c",
   "metadata": {},
   "outputs": [],
   "source": [
    "from html.parser import HTMLParser\n",
    "\n",
    "class HeadingPrsr(HTMLParser):\n",
    "    headings = ['h1', 'h2', 'h3', 'h4', 'h5', 'h6']\n",
    "    flag = 0\n",
    "    spaces = 0\n",
    "    def handle_starttag(self, tag, attrs):\n",
    "        if tag in self.headings:\n",
    "            self.flag = 1\n",
    "            self.spaces = int(tag[1]) - 1\n",
    "           \n",
    "    def handle_endtag(self, tag):\n",
    "        if tag == 'h1':\n",
    "            self.flag = 0\n",
    "            \n",
    "    def handle_data(self, data):\n",
    "        if self.flag:\n",
    "            print(data.rjust(len(data) + self.spaces), end='\\n')"
   ]
  },
  {
   "cell_type": "code",
   "execution_count": 134,
   "id": "86c1c07b",
   "metadata": {},
   "outputs": [
    {
     "name": "stdout",
     "output_type": "stream",
     "text": [
      "W3C Mission\n",
      " Principles\n",
      " \n",
      " \n",
      "\n",
      "\n",
      "\n",
      " \n",
      "\n"
     ]
    }
   ],
   "source": [
    "infile = open(\"C:/Users/Dell/DPFiles/w3c.html\")\n",
    "content = infile.read()\n",
    "infile.close()\n",
    "hp = HeadingPrsr()\n",
    "hp.feed(content)"
   ]
  },
  {
   "cell_type": "markdown",
   "id": "c2d75b70",
   "metadata": {},
   "source": [
    "## Que: 7"
   ]
  },
  {
   "cell_type": "code",
   "execution_count": 141,
   "id": "423d9bd4",
   "metadata": {},
   "outputs": [],
   "source": [
    "from html.parser import HTMLParser\n",
    "import requests\n",
    "\n",
    "class UrlParser(HTMLParser):               \n",
    " \n",
    "    def __init__(self):\n",
    "        self.urls = []                     \n",
    "        HTMLParser.__init__(self)\n",
    "\n",
    "    def handle_starttag(self, tag, attrs):\n",
    "        self.start_tag = tag\n",
    "        if tag == 'a':                      \n",
    "            for name,value in attrs:\n",
    "                if name == 'href':\n",
    "                    self.urls.append(value)\n",
    "    def getUrls(self):                   \n",
    "        return self.urls\n",
    "    \n",
    "def webdir(url,depth,indent):\n",
    "    if(depth==-1):\n",
    "        return\n",
    "    tabs = \"\"\n",
    "    for x in range(indent):            \n",
    "        tabs = tabs+\"\\t\"\n",
    "    print(tabs+url)\n",
    "    \n",
    "    urlParser = UrlParser()\n",
    "    html = requests.get(url)\n",
    "    urlParser.feed(html.text)\n",
    "    urls = urlParser.getUrls()\n",
    "\n",
    "    for _url in urls:\n",
    "        if(not 'http' in _url):\n",
    "            _url = url+_url\n",
    "        webdir(_url,depth-1,indent+1)"
   ]
  },
  {
   "cell_type": "code",
   "execution_count": 142,
   "id": "25c22320",
   "metadata": {},
   "outputs": [
    {
     "name": "stdout",
     "output_type": "stream",
     "text": [
      "http://reed.cs.depaul.edu/lperkovic/test1.html\n",
      "\thttp://reed.cs.depaul.edu/lperkovic/test2.html\n",
      "\t\thttp://reed.cs.depaul.edu/lperkovic/test2.htmlmailto:lperkovic@cs.depaul.edu\n",
      "\t\thttp://reed.cs.depaul.edu/lperkovic/test2.htmltest4.html\n",
      "\thttp://reed.cs.depaul.edu/lperkovic/test1.htmltest3.html\n"
     ]
    }
   ],
   "source": [
    "webdir('http://reed.cs.depaul.edu/lperkovic/test1.html',2,0)"
   ]
  },
  {
   "cell_type": "markdown",
   "id": "0440cb4c",
   "metadata": {},
   "source": [
    "## Que: 8"
   ]
  },
  {
   "cell_type": "code",
   "execution_count": 98,
   "id": "34dde650",
   "metadata": {},
   "outputs": [
    {
     "data": {
      "text/plain": [
       "[('Mumbai', 'India', 'Winter', 24.8, 5.9),\n",
       " ('Mumbai', 'India', 'Spring', 28.4, 16.2),\n",
       " ('Mumbai', 'India', 'Summer', 27.9, 1549.4),\n",
       " ('Mumbai', 'India', 'Fall', 27.6, 346.0),\n",
       " ('London', 'United Kindom', 'Winter', 4.2, 207.7),\n",
       " ('London', 'United Kindom', 'Spring', 8.3, 169.6),\n",
       " ('London', 'United Kindom', 'Summer', 15.7, 157.0),\n",
       " ('London', 'United Kindom', 'Fall', 10.4, 218.5),\n",
       " ('Cairo', 'Egypt', 'Winter', 13.6, 16.5),\n",
       " ('Cairo', 'Egypt', 'Spring', 20.7, 6.5),\n",
       " ('Cairo', 'Egypt', 'Summer', 27.7, 0.1),\n",
       " ('Cairo', 'Egypt', 'Fall', 22.2, 4.5)]"
      ]
     },
     "execution_count": 98,
     "metadata": {},
     "output_type": "execute_result"
    }
   ],
   "source": [
    "import sqlite3\n",
    "con = sqlite3.connect('FILE1.db')\n",
    "cur = con.cursor()\n",
    "cur.execute(\"CREATE TABLE details (City text, Country text, Season text, Temperature real, Rainfall real)\")\n",
    "cur.execute(\"INSERT INTO details VALUES ('Mumbai', 'India', 'Winter', 24.8, 5.9), ('Mumbai','India', 'Spring', 28.4, 16.2), ('Mumbai','India', 'Summer', 27.9, 1549.4), ('Mumbai','India', 'Fall', 27.6, 346.0)\")\n",
    "cur.execute(\"INSERT INTO details VALUES ('London', 'United Kindom', 'Winter', 4.2, 207.7), ('London', 'United Kindom', 'Spring', 8.3, 169.6), ('London', 'United Kindom', 'Summer', 15.7, 157.0), ('London', 'United Kindom', 'Fall', 10.4, 218.5)\")\n",
    "cur.execute(\"INSERT INTO details VALUES ('Cairo', 'Egypt', 'Winter', 13.6, 16.5), ('Cairo', 'Egypt', 'Spring', 20.7, 6.5), ('Cairo', 'Egypt', 'Summer', 27.7, 0.1), ('Cairo', 'Egypt', 'Fall', 22.2, 4.5)\")\n",
    "cur.execute('SELECT * FROM details')\n",
    "cur.fetchall()"
   ]
  },
  {
   "cell_type": "code",
   "execution_count": 99,
   "id": "0493ac46",
   "metadata": {},
   "outputs": [
    {
     "data": {
      "text/plain": [
       "[(24.8,),\n",
       " (28.4,),\n",
       " (27.9,),\n",
       " (27.6,),\n",
       " (4.2,),\n",
       " (8.3,),\n",
       " (15.7,),\n",
       " (10.4,),\n",
       " (13.6,),\n",
       " (20.7,),\n",
       " (27.7,),\n",
       " (22.2,)]"
      ]
     },
     "execution_count": 99,
     "metadata": {},
     "output_type": "execute_result"
    }
   ],
   "source": [
    "#Ans: a\n",
    "cur.execute(\"SELECT Temperature FROM details\")\n",
    "cur.fetchall()"
   ]
  },
  {
   "cell_type": "code",
   "execution_count": 101,
   "id": "f5b3b12e",
   "metadata": {},
   "outputs": [
    {
     "data": {
      "text/plain": [
       "[('Mumbai',), ('London',), ('Cairo',)]"
      ]
     },
     "execution_count": 101,
     "metadata": {},
     "output_type": "execute_result"
    }
   ],
   "source": [
    "#Ans: b\n",
    "cur.execute(\"SELECT DISTINCT city FROM details\")\n",
    "cur.fetchall()"
   ]
  },
  {
   "cell_type": "code",
   "execution_count": 128,
   "id": "4651c69f",
   "metadata": {},
   "outputs": [
    {
     "data": {
      "text/plain": [
       "[('Mumbai', 'India', 'Winter', 24.8, 5.9),\n",
       " ('Mumbai', 'India', 'Spring', 28.4, 16.2),\n",
       " ('Mumbai', 'India', 'Summer', 27.9, 1549.4),\n",
       " ('Mumbai', 'India', 'Fall', 27.6, 346.0)]"
      ]
     },
     "execution_count": 128,
     "metadata": {},
     "output_type": "execute_result"
    }
   ],
   "source": [
    "#Ans: c\n",
    "cur.execute(\"SELECT * FROM details WHERE country = 'India'\")\n",
    "cur.fetchall()"
   ]
  },
  {
   "cell_type": "code",
   "execution_count": 106,
   "id": "82f55cce",
   "metadata": {},
   "outputs": [
    {
     "data": {
      "text/plain": [
       "[('Mumbai', 'India', 'Fall', 27.6, 346.0),\n",
       " ('London', 'United Kindom', 'Fall', 10.4, 218.5),\n",
       " ('Cairo', 'Egypt', 'Fall', 22.2, 4.5)]"
      ]
     },
     "execution_count": 106,
     "metadata": {},
     "output_type": "execute_result"
    }
   ],
   "source": [
    "#Ans: d\n",
    "cur.execute(\"SELECT * FROM details where Season = 'Fall'\")\n",
    "cur.fetchall()"
   ]
  },
  {
   "cell_type": "code",
   "execution_count": 115,
   "id": "e1c8ebfa",
   "metadata": {},
   "outputs": [
    {
     "data": {
      "text/plain": [
       "[('Mumbai', 'India', 'Fall'),\n",
       " ('London', 'United Kindom', 'Winter'),\n",
       " ('London', 'United Kindom', 'Fall')]"
      ]
     },
     "execution_count": 115,
     "metadata": {},
     "output_type": "execute_result"
    }
   ],
   "source": [
    "#Ans: e\n",
    "cur.execute(\"SELECT City, Country, Season FROM details WHERE Rainfall BETWEEN 200 AND 400\")\n",
    "cur.fetchall()"
   ]
  },
  {
   "cell_type": "code",
   "execution_count": 122,
   "id": "50299086",
   "metadata": {},
   "outputs": [
    {
     "data": {
      "text/plain": [
       "[('Cairo', 'Egypt'), ('Mumbai', 'India')]"
      ]
     },
     "execution_count": 122,
     "metadata": {},
     "output_type": "execute_result"
    }
   ],
   "source": [
    "#Ans: f\n",
    "cur.execute(\"SELECT city, country FROM details WHERE season = 'Fall' AND temperature > 20 ORDER BY temperature ASC\")\n",
    "cur.fetchall()"
   ]
  },
  {
   "cell_type": "code",
   "execution_count": 126,
   "id": "baf37e25",
   "metadata": {},
   "outputs": [
    {
     "data": {
      "text/plain": [
       "[(27.6,)]"
      ]
     },
     "execution_count": 126,
     "metadata": {},
     "output_type": "execute_result"
    }
   ],
   "source": [
    "#Ans: g\n",
    "cur.execute(\"SELECT SUM(rainfall) AS Total FROM details WHERE city = 'Cairo'\")\n",
    "cur.fetchall()"
   ]
  },
  {
   "cell_type": "code",
   "execution_count": 127,
   "id": "d9e98ca2",
   "metadata": {},
   "outputs": [
    {
     "data": {
      "text/plain": [
       "[('Fall', 569.0), ('Spring', 192.3), ('Summer', 1706.5), ('Winter', 230.1)]"
      ]
     },
     "execution_count": 127,
     "metadata": {},
     "output_type": "execute_result"
    }
   ],
   "source": [
    "#Ans: g\n",
    "cur.execute(\"SELECT Season, Round(Sum(Rainfall),2) FROM details GROUP BY Season\")\n",
    "cur.fetchall()"
   ]
  },
  {
   "cell_type": "markdown",
   "id": "fad89195",
   "metadata": {},
   "source": [
    "## Que: 9"
   ]
  },
  {
   "cell_type": "code",
   "execution_count": 55,
   "id": "67e6428c",
   "metadata": {},
   "outputs": [],
   "source": [
    "words = ['The', 'quick', 'brown', 'fox', 'jumps', 'over', 'the', 'lazy', 'dog']\n",
    "\n",
    "# for all the answers I used for loop to check each words as question asked."
   ]
  },
  {
   "cell_type": "code",
   "execution_count": 50,
   "id": "2d317336",
   "metadata": {},
   "outputs": [
    {
     "name": "stdout",
     "output_type": "stream",
     "text": [
      "['THE', 'QUICK', 'BROWN', 'FOX', 'JUMPS', 'OVER', 'THE', 'LAZY', 'DOG']\n"
     ]
    }
   ],
   "source": [
    "#Ans a:\n",
    "for i in range(len(words)):\n",
    "    words[i] = words[i].upper()          \n",
    "print(words)"
   ]
  },
  {
   "cell_type": "code",
   "execution_count": 51,
   "id": "93cba94a",
   "metadata": {},
   "outputs": [
    {
     "name": "stdout",
     "output_type": "stream",
     "text": [
      "['the', 'quick', 'brown', 'fox', 'jumps', 'over', 'the', 'lazy', 'dog']\n"
     ]
    }
   ],
   "source": [
    "#Ans b:\n",
    "for i in range(len(words)):\n",
    "    words[i] = words[i].lower()          \n",
    "print(words)"
   ]
  },
  {
   "cell_type": "code",
   "execution_count": 52,
   "id": "fe1e9764",
   "metadata": {},
   "outputs": [
    {
     "name": "stdout",
     "output_type": "stream",
     "text": [
      "[3, 5, 5, 3, 5, 4, 3, 4, 3]\n"
     ]
    }
   ],
   "source": [
    "#Ans c\n",
    "lettercnt = [len(i) for i in words]          \n",
    "print(lettercnt)"
   ]
  },
  {
   "cell_type": "code",
   "execution_count": 53,
   "id": "6826c564",
   "metadata": {
    "scrolled": true
   },
   "outputs": [
    {
     "name": "stdout",
     "output_type": "stream",
     "text": [
      "[('THE', 'the', 3), ('QUICK', 'quick', 5), ('BROWN', 'brown', 5), ('FOX', 'fox', 3), ('JUMPS', 'jumps', 5), ('OVER', 'over', 4), ('THE', 'the', 3), ('LAZY', 'lazy', 4), ('DOG', 'dog', 3)]\n"
     ]
    }
   ],
   "source": [
    "#Ans d:\n",
    "wordlst = [(word.upper(), word.lower(),len(word)) for word in words]\n",
    "print (wordlst)"
   ]
  },
  {
   "cell_type": "code",
   "execution_count": 54,
   "id": "3e485ba2",
   "metadata": {},
   "outputs": [
    {
     "name": "stdout",
     "output_type": "stream",
     "text": [
      "['quick', 'brown', 'jumps', 'over', 'lazy']\n"
     ]
    }
   ],
   "source": [
    "#Ans e:\n",
    "e = [i for i in words if len(i) >= 4]       \n",
    "print(e)                                    "
   ]
  }
 ],
 "metadata": {
  "kernelspec": {
   "display_name": "Python 3 (ipykernel)",
   "language": "python",
   "name": "python3"
  },
  "language_info": {
   "codemirror_mode": {
    "name": "ipython",
    "version": 3
   },
   "file_extension": ".py",
   "mimetype": "text/x-python",
   "name": "python",
   "nbconvert_exporter": "python",
   "pygments_lexer": "ipython3",
   "version": "3.9.7"
  }
 },
 "nbformat": 4,
 "nbformat_minor": 5
}
